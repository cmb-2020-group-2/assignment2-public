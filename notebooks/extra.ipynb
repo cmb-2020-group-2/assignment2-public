{
 "cells": [
  {
   "cell_type": "code",
   "execution_count": 1,
   "metadata": {},
   "outputs": [],
   "source": [
    "import os\n",
    "import time\n",
    "import json\n",
    "\n",
    "import numpy as np\n",
    "import pandas as pd\n",
    "import matplotlib.pyplot as plt\n",
    "\n",
    "from tqdm import tqdm\n",
    "from glob import glob\n",
    "from nfstream import NFStreamer\n",
    "\n",
    "%matplotlib inline\n",
    "\n",
    "plt.rcParams.update({\n",
    "    'font.size': 16,\n",
    "    'figure.figsize': [12, 8]\n",
    "})"
   ]
  },
  {
   "cell_type": "code",
   "execution_count": 2,
   "metadata": {},
   "outputs": [],
   "source": [
    "protocol_lookup = pd.read_csv(\"../data/protocol-numbers-1.csv\")[[\"Decimal\", \"Keyword\"]].set_index(\"Decimal\").to_dict()[\"Keyword\"]\n",
    "mac_mapping = json.load(open(\"../data/device_mac.json\"))"
   ]
  },
  {
   "cell_type": "code",
   "execution_count": 3,
   "metadata": {},
   "outputs": [],
   "source": [
    "root_dir = \"../data\"\n",
    "nrows=None"
   ]
  },
  {
   "cell_type": "code",
   "execution_count": 4,
   "metadata": {},
   "outputs": [
    {
     "name": "stderr",
     "output_type": "stream",
     "text": [
      "100%|██████████| 3/3 [00:04<00:00,  1.56s/it]\n"
     ]
    }
   ],
   "source": [
    "files = glob(os.path.join(root_dir, \"*.csv.gz\"))\n",
    "\n",
    "all_dfs = []\n",
    "for csv_file in tqdm(files, total=len(files)):\n",
    "    all_dfs.append(pd.read_csv(csv_file, nrows=nrows))\n",
    "    \n",
    "all_df = pd.concat(all_dfs).sort_values(\"bidirectional_first_seen_ms\").reset_index(drop=1)"
   ]
  },
  {
   "cell_type": "code",
   "execution_count": 5,
   "metadata": {},
   "outputs": [],
   "source": [
    "all_df['date'] = all_df.bidirectional_first_seen_ms.apply(\n",
    "    lambda x: time.strftime('%Y-%m-%d %H:%M:%S', time.gmtime(x/1000.0))\n",
    ").apply(pd.Timestamp)\n",
    "\n",
    "all_df[\"protocol_name\"] = all_df.protocol.apply(lambda x: protocol_lookup[str(x)] if str(x) in protocol_lookup else \"Unassigned\")"
   ]
  },
  {
   "cell_type": "code",
   "execution_count": 22,
   "metadata": {},
   "outputs": [],
   "source": [
    "all_df[\"device\"] = all_df.src_mac.apply(lambda x: mac_mapping[str(x).lower()] if str(x).lower() in mac_mapping else \"Unassigned\")"
   ]
  },
  {
   "cell_type": "code",
   "execution_count": 6,
   "metadata": {},
   "outputs": [],
   "source": [
    "def get_locale_timezone(row):\n",
    "    if row[\"whoami\"] == \"ece\":\n",
    "        return row['date'].tz_localize(\"UTC\").tz_convert('Europe/Berlin')\n",
    "    return row['date'].tz_localize(\"UTC\").tz_convert('Europe/Istanbul')\n",
    "\n",
    "all_df[\"date_locale\"] = all_df.apply(get_locale_timezone, axis=1)"
   ]
  },
  {
   "cell_type": "code",
   "execution_count": 7,
   "metadata": {},
   "outputs": [
    {
     "name": "stderr",
     "output_type": "stream",
     "text": [
      "b'Skipping line 39103: expected 2 fields, saw 4\\nSkipping line 39112: expected 2 fields, saw 4\\nSkipping line 39160: expected 2 fields, saw 4\\nSkipping line 39242: expected 2 fields, saw 4\\nSkipping line 39250: expected 2 fields, saw 4\\nSkipping line 39251: expected 2 fields, saw 4\\nSkipping line 39274: expected 2 fields, saw 4\\nSkipping line 39275: expected 2 fields, saw 4\\nSkipping line 39287: expected 2 fields, saw 4\\nSkipping line 39301: expected 2 fields, saw 4\\nSkipping line 39309: expected 2 fields, saw 4\\nSkipping line 39327: expected 2 fields, saw 4\\nSkipping line 39343: expected 2 fields, saw 4\\nSkipping line 39367: expected 2 fields, saw 4\\nSkipping line 39373: expected 2 fields, saw 4\\nSkipping line 39386: expected 2 fields, saw 4\\nSkipping line 39397: expected 2 fields, saw 4\\nSkipping line 39405: expected 2 fields, saw 4\\nSkipping line 39451: expected 2 fields, saw 4\\nSkipping line 39477: expected 2 fields, saw 4\\nSkipping line 39506: expected 2 fields, saw 4\\nSkipping line 39517: expected 2 fields, saw 4\\nSkipping line 39520: expected 2 fields, saw 4\\nSkipping line 39549: expected 2 fields, saw 4\\nSkipping line 39551: expected 2 fields, saw 4\\nSkipping line 39616: expected 2 fields, saw 4\\nSkipping line 39627: expected 2 fields, saw 4\\nSkipping line 39632: expected 2 fields, saw 4\\nSkipping line 39636: expected 2 fields, saw 4\\nSkipping line 39649: expected 2 fields, saw 4\\nSkipping line 39653: expected 2 fields, saw 4\\nSkipping line 39670: expected 2 fields, saw 4\\nSkipping line 39678: expected 2 fields, saw 4\\nSkipping line 39694: expected 2 fields, saw 4\\nSkipping line 39701: expected 2 fields, saw 4\\nSkipping line 39709: expected 2 fields, saw 4\\nSkipping line 39725: expected 2 fields, saw 4\\nSkipping line 39728: expected 2 fields, saw 4\\nSkipping line 39731: expected 2 fields, saw 4\\nSkipping line 39735: expected 2 fields, saw 4\\nSkipping line 39751: expected 2 fields, saw 4\\nSkipping line 39765: expected 2 fields, saw 4\\nSkipping line 39784: expected 2 fields, saw 4\\nSkipping line 39818: expected 2 fields, saw 4\\nSkipping line 39837: expected 2 fields, saw 4\\nSkipping line 39853: expected 2 fields, saw 4\\nSkipping line 39855: expected 2 fields, saw 4\\nSkipping line 39856: expected 2 fields, saw 4\\nSkipping line 39871: expected 2 fields, saw 4\\nSkipping line 39902: expected 2 fields, saw 4\\nSkipping line 39958: expected 2 fields, saw 4\\nSkipping line 39989: expected 2 fields, saw 4\\nSkipping line 39997: expected 2 fields, saw 4\\nSkipping line 40002: expected 2 fields, saw 4\\nSkipping line 40007: expected 2 fields, saw 4\\nSkipping line 40025: expected 2 fields, saw 4\\nSkipping line 40055: expected 2 fields, saw 4\\nSkipping line 40065: expected 2 fields, saw 4\\nSkipping line 40199: expected 2 fields, saw 4\\nSkipping line 40205: expected 2 fields, saw 4\\nSkipping line 40208: expected 2 fields, saw 4\\nSkipping line 40216: expected 2 fields, saw 4\\nSkipping line 40221: expected 2 fields, saw 4\\nSkipping line 40222: expected 2 fields, saw 4\\nSkipping line 40223: expected 2 fields, saw 4\\nSkipping line 40228: expected 2 fields, saw 4\\nSkipping line 40245: expected 2 fields, saw 4\\nSkipping line 40260: expected 2 fields, saw 4\\nSkipping line 40339: expected 2 fields, saw 4\\nSkipping line 40418: expected 2 fields, saw 4\\nSkipping line 40425: expected 2 fields, saw 4\\nSkipping line 40492: expected 2 fields, saw 4\\nSkipping line 40499: expected 2 fields, saw 4\\nSkipping line 40524: expected 2 fields, saw 4\\nSkipping line 40555: expected 2 fields, saw 4\\nSkipping line 40589: expected 2 fields, saw 4\\nSkipping line 40608: expected 2 fields, saw 4\\nSkipping line 40638: expected 2 fields, saw 4\\nSkipping line 40644: expected 2 fields, saw 4\\nSkipping line 40646: expected 2 fields, saw 4\\nSkipping line 40648: expected 2 fields, saw 4\\nSkipping line 40764: expected 2 fields, saw 4\\nSkipping line 40820: expected 2 fields, saw 4\\nSkipping line 40843: expected 2 fields, saw 4\\nSkipping line 40945: expected 2 fields, saw 4\\nSkipping line 40963: expected 2 fields, saw 4\\nSkipping line 41031: expected 2 fields, saw 4\\nSkipping line 41033: expected 2 fields, saw 4\\nSkipping line 41062: expected 2 fields, saw 4\\nSkipping line 41072: expected 2 fields, saw 4\\nSkipping line 41112: expected 2 fields, saw 4\\nSkipping line 41120: expected 2 fields, saw 4\\nSkipping line 41124: expected 2 fields, saw 4\\nSkipping line 41155: expected 2 fields, saw 4\\nSkipping line 41216: expected 2 fields, saw 4\\nSkipping line 41217: expected 2 fields, saw 4\\nSkipping line 41239: expected 2 fields, saw 4\\nSkipping line 41271: expected 2 fields, saw 4\\nSkipping line 41309: expected 2 fields, saw 4\\nSkipping line 41385: expected 2 fields, saw 4\\nSkipping line 41540: expected 2 fields, saw 4\\nSkipping line 41554: expected 2 fields, saw 4\\nSkipping line 41568: expected 2 fields, saw 4\\nSkipping line 41577: expected 2 fields, saw 4\\nSkipping line 41676: expected 2 fields, saw 4\\nSkipping line 41684: expected 2 fields, saw 4\\nSkipping line 41696: expected 2 fields, saw 4\\nSkipping line 41760: expected 2 fields, saw 4\\nSkipping line 41762: expected 2 fields, saw 4\\nSkipping line 41798: expected 2 fields, saw 4\\nSkipping line 41892: expected 2 fields, saw 4\\nSkipping line 41901: expected 2 fields, saw 4\\nSkipping line 41914: expected 2 fields, saw 4\\nSkipping line 41919: expected 2 fields, saw 4\\nSkipping line 41931: expected 2 fields, saw 4\\nSkipping line 41949: expected 2 fields, saw 4\\nSkipping line 41979: expected 2 fields, saw 4\\nSkipping line 42005: expected 2 fields, saw 4\\nSkipping line 42044: expected 2 fields, saw 4\\nSkipping line 42047: expected 2 fields, saw 4\\nSkipping line 42061: expected 2 fields, saw 4\\nSkipping line 42079: expected 2 fields, saw 4\\nSkipping line 42178: expected 2 fields, saw 4\\nSkipping line 42184: expected 2 fields, saw 4\\nSkipping line 42214: expected 2 fields, saw 4\\nSkipping line 42234: expected 2 fields, saw 4\\nSkipping line 42283: expected 2 fields, saw 4\\nSkipping line 42289: expected 2 fields, saw 4\\nSkipping line 42290: expected 2 fields, saw 4\\nSkipping line 42293: expected 2 fields, saw 4\\nSkipping line 42294: expected 2 fields, saw 4\\nSkipping line 42295: expected 2 fields, saw 4\\nSkipping line 42296: expected 2 fields, saw 4\\nSkipping line 42326: expected 2 fields, saw 4\\nSkipping line 42332: expected 2 fields, saw 4\\nSkipping line 42335: expected 2 fields, saw 4\\nSkipping line 42336: expected 2 fields, saw 4\\nSkipping line 42408: expected 2 fields, saw 4\\nSkipping line 42458: expected 2 fields, saw 4\\nSkipping line 42514: expected 2 fields, saw 4\\nSkipping line 42559: expected 2 fields, saw 4\\nSkipping line 42632: expected 2 fields, saw 4\\nSkipping line 42659: expected 2 fields, saw 4\\nSkipping line 42700: expected 2 fields, saw 4\\nSkipping line 42728: expected 2 fields, saw 4\\nSkipping line 42887: expected 2 fields, saw 4\\nSkipping line 42916: expected 2 fields, saw 4\\nSkipping line 42934: expected 2 fields, saw 4\\nSkipping line 42940: expected 2 fields, saw 4\\nSkipping line 43005: expected 2 fields, saw 4\\nSkipping line 43038: expected 2 fields, saw 4\\nSkipping line 43075: expected 2 fields, saw 4\\nSkipping line 43136: expected 2 fields, saw 4\\nSkipping line 43175: expected 2 fields, saw 4\\nSkipping line 43210: expected 2 fields, saw 4\\nSkipping line 43244: expected 2 fields, saw 4\\nSkipping line 43258: expected 2 fields, saw 4\\nSkipping line 43278: expected 2 fields, saw 4\\nSkipping line 43294: expected 2 fields, saw 4\\nSkipping line 43305: expected 2 fields, saw 4\\nSkipping line 43306: expected 2 fields, saw 4\\nSkipping line 43344: expected 2 fields, saw 4\\nSkipping line 43351: expected 2 fields, saw 4\\nSkipping line 43373: expected 2 fields, saw 4\\nSkipping line 43380: expected 2 fields, saw 4\\nSkipping line 43396: expected 2 fields, saw 4\\nSkipping line 43404: expected 2 fields, saw 4\\nSkipping line 43429: expected 2 fields, saw 4\\nSkipping line 43447: expected 2 fields, saw 4\\nSkipping line 43474: expected 2 fields, saw 4\\nSkipping line 43483: expected 2 fields, saw 4\\nSkipping line 43593: expected 2 fields, saw 4\\nSkipping line 43625: expected 2 fields, saw 4\\nSkipping line 43639: expected 2 fields, saw 4\\nSkipping line 43645: expected 2 fields, saw 4\\nSkipping line 43653: expected 2 fields, saw 4\\nSkipping line 43674: expected 2 fields, saw 4\\nSkipping line 43677: expected 2 fields, saw 4\\nSkipping line 43681: expected 2 fields, saw 4\\nSkipping line 43688: expected 2 fields, saw 4\\nSkipping line 43723: expected 2 fields, saw 4\\nSkipping line 43752: expected 2 fields, saw 4\\nSkipping line 43756: expected 2 fields, saw 4\\nSkipping line 43774: expected 2 fields, saw 4\\nSkipping line 43813: expected 2 fields, saw 4\\nSkipping line 43868: expected 2 fields, saw 4\\nSkipping line 43894: expected 2 fields, saw 4\\nSkipping line 43912: expected 2 fields, saw 4\\nSkipping line 43916: expected 2 fields, saw 4\\nSkipping line 43919: expected 2 fields, saw 4\\nSkipping line 43953: expected 2 fields, saw 4\\nSkipping line 43964: expected 2 fields, saw 4\\nSkipping line 44007: expected 2 fields, saw 4\\nSkipping line 44101: expected 2 fields, saw 4\\nSkipping line 44139: expected 2 fields, saw 4\\nSkipping line 44360: expected 2 fields, saw 4\\nSkipping line 44363: expected 2 fields, saw 4\\nSkipping line 44518: expected 2 fields, saw 4\\nSkipping line 44566: expected 2 fields, saw 4\\nSkipping line 44607: expected 2 fields, saw 4\\nSkipping line 44609: expected 2 fields, saw 4\\nSkipping line 44622: expected 2 fields, saw 4\\nSkipping line 44657: expected 2 fields, saw 4\\nSkipping line 44696: expected 2 fields, saw 4\\nSkipping line 44708: expected 2 fields, saw 4\\nSkipping line 44721: expected 2 fields, saw 4\\nSkipping line 44729: expected 2 fields, saw 4\\nSkipping line 44732: expected 2 fields, saw 4\\nSkipping line 44806: expected 2 fields, saw 4\\nSkipping line 44831: expected 2 fields, saw 4\\nSkipping line 44850: expected 2 fields, saw 4\\nSkipping line 44888: expected 2 fields, saw 4\\nSkipping line 44933: expected 2 fields, saw 4\\nSkipping line 44936: expected 2 fields, saw 4\\nSkipping line 44975: expected 2 fields, saw 4\\nSkipping line 44977: expected 2 fields, saw 4\\nSkipping line 45050: expected 2 fields, saw 4\\nSkipping line 45053: expected 2 fields, saw 4\\nSkipping line 45075: expected 2 fields, saw 4\\nSkipping line 45095: expected 2 fields, saw 4\\nSkipping line 45099: expected 2 fields, saw 4\\nSkipping line 45191: expected 2 fields, saw 4\\nSkipping line 45207: expected 2 fields, saw 4\\nSkipping line 45216: expected 2 fields, saw 4\\nSkipping line 45231: expected 2 fields, saw 4\\nSkipping line 45239: expected 2 fields, saw 4\\nSkipping line 45244: expected 2 fields, saw 4\\nSkipping line 45366: expected 2 fields, saw 4\\nSkipping line 45434: expected 2 fields, saw 4\\nSkipping line 45443: expected 2 fields, saw 4\\nSkipping line 45452: expected 2 fields, saw 4\\nSkipping line 45459: expected 2 fields, saw 4\\nSkipping line 45460: expected 2 fields, saw 4\\nSkipping line 45464: expected 2 fields, saw 4\\nSkipping line 45557: expected 2 fields, saw 4\\nSkipping line 45560: expected 2 fields, saw 4\\nSkipping line 45666: expected 2 fields, saw 4\\nSkipping line 45681: expected 2 fields, saw 4\\nSkipping line 45688: expected 2 fields, saw 4\\nSkipping line 45690: expected 2 fields, saw 4\\nSkipping line 45691: expected 2 fields, saw 4\\nSkipping line 45705: expected 2 fields, saw 4\\nSkipping line 45727: expected 2 fields, saw 4\\nSkipping line 45765: expected 2 fields, saw 4\\nSkipping line 45784: expected 2 fields, saw 4\\nSkipping line 45788: expected 2 fields, saw 4\\nSkipping line 45803: expected 2 fields, saw 4\\nSkipping line 45816: expected 2 fields, saw 4\\nSkipping line 45819: expected 2 fields, saw 4\\nSkipping line 45834: expected 2 fields, saw 4\\nSkipping line 45848: expected 2 fields, saw 4\\nSkipping line 45855: expected 2 fields, saw 4\\nSkipping line 45868: expected 2 fields, saw 4\\nSkipping line 45872: expected 2 fields, saw 4\\nSkipping line 45877: expected 2 fields, saw 4\\nSkipping line 45907: expected 2 fields, saw 4\\nSkipping line 45915: expected 2 fields, saw 4\\nSkipping line 45918: expected 2 fields, saw 4\\nSkipping line 45919: expected 2 fields, saw 4\\nSkipping line 45920: expected 2 fields, saw 4\\nSkipping line 45923: expected 2 fields, saw 4\\nSkipping line 45926: expected 2 fields, saw 4\\nSkipping line 45928: expected 2 fields, saw 4\\nSkipping line 45931: expected 2 fields, saw 4\\nSkipping line 45938: expected 2 fields, saw 4\\nSkipping line 45954: expected 2 fields, saw 4\\nSkipping line 45967: expected 2 fields, saw 4\\nSkipping line 46731: expected 2 fields, saw 4\\nSkipping line 46733: expected 2 fields, saw 4\\nSkipping line 46743: expected 2 fields, saw 4\\nSkipping line 46753: expected 2 fields, saw 4\\nSkipping line 46760: expected 2 fields, saw 4\\nSkipping line 46771: expected 2 fields, saw 4\\nSkipping line 46772: expected 2 fields, saw 4\\nSkipping line 46773: expected 2 fields, saw 4\\nSkipping line 46802: expected 2 fields, saw 4\\nSkipping line 46865: expected 2 fields, saw 4\\nSkipping line 46904: expected 2 fields, saw 4\\nSkipping line 46910: expected 2 fields, saw 4\\nSkipping line 46911: expected 2 fields, saw 4\\nSkipping line 46931: expected 2 fields, saw 4\\nSkipping line 46934: expected 2 fields, saw 4\\nSkipping line 46935: expected 2 fields, saw 4\\nSkipping line 46936: expected 2 fields, saw 4\\nSkipping line 46974: expected 2 fields, saw 4\\nSkipping line 47024: expected 2 fields, saw 4\\nSkipping line 47027: expected 2 fields, saw 4\\nSkipping line 47049: expected 2 fields, saw 4\\nSkipping line 47053: expected 2 fields, saw 4\\nSkipping line 47060: expected 2 fields, saw 4\\nSkipping line 47067: expected 2 fields, saw 4\\nSkipping line 47101: expected 2 fields, saw 4\\nSkipping line 47105: expected 2 fields, saw 4\\nSkipping line 47133: expected 2 fields, saw 4\\nSkipping line 48076: expected 2 fields, saw 4\\nSkipping line 48077: expected 2 fields, saw 4\\nSkipping line 48078: expected 2 fields, saw 4\\nSkipping line 48305: expected 2 fields, saw 33\\nSkipping line 48306: expected 2 fields, saw 33\\nSkipping line 48316: expected 2 fields, saw 4\\nSkipping line 48341: expected 2 fields, saw 4\\nSkipping line 48365: expected 2 fields, saw 4\\nSkipping line 48367: expected 2 fields, saw 4\\nSkipping line 48368: expected 2 fields, saw 3\\nSkipping line 48369: expected 2 fields, saw 3\\nSkipping line 48432: expected 2 fields, saw 4\\nSkipping line 48499: expected 2 fields, saw 4\\nSkipping line 48645: expected 2 fields, saw 4\\nSkipping line 48646: expected 2 fields, saw 4\\nSkipping line 48647: expected 2 fields, saw 4\\nSkipping line 48671: expected 2 fields, saw 4\\nSkipping line 48825: expected 2 fields, saw 4\\nSkipping line 48830: expected 2 fields, saw 4\\nSkipping line 48833: expected 2 fields, saw 4\\nSkipping line 48889: expected 2 fields, saw 4\\nSkipping line 48890: expected 2 fields, saw 4\\nSkipping line 49055: expected 2 fields, saw 4\\nSkipping line 49196: expected 2 fields, saw 4\\nSkipping line 49283: expected 2 fields, saw 4\\nSkipping line 49633: expected 2 fields, saw 4\\nSkipping line 49659: expected 2 fields, saw 4\\nSkipping line 49672: expected 2 fields, saw 4\\nSkipping line 49711: expected 2 fields, saw 4\\nSkipping line 49719: expected 2 fields, saw 4\\nSkipping line 49728: expected 2 fields, saw 4\\nSkipping line 49735: expected 2 fields, saw 4\\nSkipping line 49756: expected 2 fields, saw 4\\nSkipping line 49796: expected 2 fields, saw 4\\nSkipping line 49840: expected 2 fields, saw 4\\nSkipping line 49919: expected 2 fields, saw 4\\nSkipping line 49946: expected 2 fields, saw 4\\nSkipping line 49950: expected 2 fields, saw 4\\nSkipping line 50013: expected 2 fields, saw 4\\nSkipping line 50057: expected 2 fields, saw 4\\nSkipping line 50069: expected 2 fields, saw 4\\nSkipping line 50072: expected 2 fields, saw 4\\nSkipping line 50088: expected 2 fields, saw 4\\nSkipping line 50101: expected 2 fields, saw 4\\nSkipping line 50102: expected 2 fields, saw 4\\nSkipping line 50133: expected 2 fields, saw 4\\nSkipping line 50145: expected 2 fields, saw 4\\nSkipping line 50149: expected 2 fields, saw 4\\nSkipping line 50165: expected 2 fields, saw 4\\nSkipping line 50166: expected 2 fields, saw 4\\nSkipping line 50167: expected 2 fields, saw 4\\nSkipping line 50168: expected 2 fields, saw 4\\nSkipping line 50281: expected 2 fields, saw 4\\nSkipping line 50432: expected 2 fields, saw 4\\nSkipping line 50475: expected 2 fields, saw 4\\nSkipping line 50559: expected 2 fields, saw 4\\nSkipping line 50570: expected 2 fields, saw 4\\nSkipping line 50579: expected 2 fields, saw 4\\nSkipping line 50626: expected 2 fields, saw 4\\nSkipping line 50691: expected 2 fields, saw 4\\nSkipping line 50716: expected 2 fields, saw 4\\nSkipping line 50776: expected 2 fields, saw 4\\nSkipping line 50777: expected 2 fields, saw 4\\nSkipping line 50778: expected 2 fields, saw 4\\nSkipping line 50779: expected 2 fields, saw 4\\nSkipping line 50781: expected 2 fields, saw 4\\nSkipping line 50793: expected 2 fields, saw 4\\nSkipping line 50816: expected 2 fields, saw 4\\nSkipping line 50830: expected 2 fields, saw 4\\nSkipping line 50840: expected 2 fields, saw 4\\nSkipping line 50842: expected 2 fields, saw 4\\nSkipping line 50851: expected 2 fields, saw 4\\nSkipping line 51280: expected 2 fields, saw 4\\nSkipping line 60339: expected 2 fields, saw 4\\nSkipping line 60347: expected 2 fields, saw 4\\nSkipping line 65770: expected 2 fields, saw 3\\nSkipping line 67038: expected 2 fields, saw 3\\n'\n"
     ]
    }
   ],
   "source": [
    "ad_list = pd.read_csv('../data/hosts', comment='#', delimiter=' ', error_bad_lines=False)"
   ]
  },
  {
   "cell_type": "code",
   "execution_count": 8,
   "metadata": {},
   "outputs": [],
   "source": [
    "l = ad_list.website.values"
   ]
  },
  {
   "cell_type": "code",
   "execution_count": 11,
   "metadata": {},
   "outputs": [
    {
     "name": "stderr",
     "output_type": "stream",
     "text": [
      "100%|██████████| 1183593/1183593 [34:16<00:00, 575.67it/s]\n"
     ]
    }
   ],
   "source": [
    "from tqdm import tqdm\n",
    "ad_list = []\n",
    "for i, r in tqdm(all_df.iterrows(), total=len(all_df)):\n",
    "    ad_list.append(r[\"requested_server_name\"] in l    )"
   ]
  },
  {
   "cell_type": "code",
   "execution_count": 13,
   "metadata": {},
   "outputs": [],
   "source": [
    "all_df[\"is_ad\"] = ad_list"
   ]
  },
  {
   "cell_type": "code",
   "execution_count": 15,
   "metadata": {},
   "outputs": [
    {
     "data": {
      "text/plain": [
       "9.804890701448892"
      ]
     },
     "execution_count": 15,
     "metadata": {},
     "output_type": "execute_result"
    }
   ],
   "source": [
    "all_df.is_ad.sum() / len(all_df) * 100"
   ]
  },
  {
   "cell_type": "markdown",
   "metadata": {},
   "source": [
    "### Night"
   ]
  },
  {
   "cell_type": "code",
   "execution_count": 17,
   "metadata": {},
   "outputs": [],
   "source": [
    "def is_night(t):\n",
    "    if t.hour in [24, 0, 1, 2, 3, 4, 5]:\n",
    "        return True\n",
    "    return False\n",
    "\n",
    "all_df[\"is_night\"] = all_df.date_locale.apply(is_night)"
   ]
  },
  {
   "cell_type": "code",
   "execution_count": 18,
   "metadata": {},
   "outputs": [],
   "source": [
    "temp_df = all_df.groupby([\"is_night\", \"is_ad\"])[\"id\"].count().to_frame()\n",
    "temp_df.columns = [\"count\"]\n",
    "temp_df = temp_df.reset_index()\n",
    "\n",
    "temp_df = temp_df[temp_df[\"count\"] > 250]\n",
    "# temp_df[\"count\"] = temp_df[\"count\"].apply(np.log1p)"
   ]
  },
  {
   "cell_type": "code",
   "execution_count": 19,
   "metadata": {},
   "outputs": [],
   "source": [
    "u_protocol_names = [\"Ad\", \"not Ad\"]\n",
    "\n",
    "temp_df_day = temp_df[~temp_df.is_night].copy()\n",
    "temp_df_night = temp_df[temp_df.is_night].copy()"
   ]
  },
  {
   "cell_type": "code",
   "execution_count": 20,
   "metadata": {},
   "outputs": [
    {
     "data": {
      "image/png": "[encoded data removed]",
      "text/plain": [
       "<Figure size 864x576 with 1 Axes>"
      ]
     },
     "metadata": {
      "needs_background": "light"
     },
     "output_type": "display_data"
    }
   ],
   "source": [
    "import numpy as np\n",
    "import matplotlib.pyplot as plt\n",
    " \n",
    "# set width of bar\n",
    "barWidth = 0.30\n",
    " \n",
    "bars = []\n",
    "for p in u_protocol_names:\n",
    "    if p == \"Ad\":\n",
    "        d = temp_df_day[temp_df_day.is_ad]\n",
    "        n = temp_df_night[temp_df_night.is_ad]\n",
    "    else:\n",
    "        d = temp_df_day[~temp_df_day.is_ad]\n",
    "        n = temp_df_night[~temp_df_night.is_ad]\n",
    "    bars.append([\n",
    "        d.iloc[0][\"count\"] if len(d) else 0,\n",
    "        n.iloc[0][\"count\"] if len(n) else 0\n",
    "    ])\n",
    "    \n",
    "rs = [np.arange(len(bars[0]))]\n",
    "for i in range(1, len(bars)):\n",
    "    rs.append([x + barWidth for x in rs[i - 1]])\n",
    "\n",
    "# # Make the plot\n",
    "for r, bar, v in zip(rs, bars, u_protocol_names):\n",
    "    plt.bar(r, bar, width=barWidth, edgecolor='white', label=v)\n",
    "\n",
    "plt.title(\"Ad over Day/Night\")\n",
    "# # Add xticks on the middle of the group bars\n",
    "plt.xlabel('time', fontweight='bold')\n",
    "plt.ylabel('count', fontweight='bold')\n",
    "plt.xticks([r + barWidth for r in range(len(bars[1]))], [\"day\", \"night\"])\n",
    " \n",
    "# # Create legend & Show graphic\n",
    "plt.legend()\n",
    "plt.show()\n"
   ]
  },
  {
   "cell_type": "markdown",
   "metadata": {},
   "source": [
    "## Device Type Aggreagations"
   ]
  },
  {
   "cell_type": "code",
   "execution_count": 23,
   "metadata": {},
   "outputs": [],
   "source": [
    "def get_device_type(d):\n",
    "    if \"iphone\" in d:\n",
    "        return \"phone\"\n",
    "    if \"samsung\" in d:\n",
    "        return \"phone\"\n",
    "    if \"projector\" in d:\n",
    "        return \"IoT\"\n",
    "    if \"switch\" in d:\n",
    "        return \"IoT\"\n",
    "    if \"watch\" in d:\n",
    "        return \"IoT\"\n",
    "    if \"macbook\" in d:\n",
    "        return \"computer\"\n",
    "    if \"windows\" in d:\n",
    "        return \"computer\"\n",
    "    if \"ipad\" in d:\n",
    "        return \"tablet\"\n",
    "    if \"tablet\" in d:\n",
    "        return \"tablet\"\n",
    "    return \"other\"\n",
    "\n",
    "all_df[\"device_type\"] = all_df[\"device\"].apply(get_device_type)\n",
    "all_devices = all_df[\"device_type\"].unique()"
   ]
  },
  {
   "cell_type": "markdown",
   "metadata": {},
   "source": [
    "### Protocol Name"
   ]
  },
  {
   "cell_type": "code",
   "execution_count": 26,
   "metadata": {},
   "outputs": [],
   "source": [
    "temp_df = all_df.groupby([\"device_type\", \"is_ad\"])[\"id\"].count().to_frame()\n",
    "temp_df.columns = [\"count\"]\n",
    "temp_df = temp_df.reset_index()\n",
    "\n",
    "\n",
    "temp_df = temp_df[temp_df[\"count\"] > 250]\n",
    "# temp_df[\"count\"] = temp_df[\"count\"].apply(np.log1p)"
   ]
  },
  {
   "cell_type": "code",
   "execution_count": 28,
   "metadata": {},
   "outputs": [
    {
     "data": {
      "text/html": [
       "<div>\n",
       "<style scoped>\n",
       "    .dataframe tbody tr th:only-of-type {\n",
       "        vertical-align: middle;\n",
       "    }\n",
       "\n",
       "    .dataframe tbody tr th {\n",
       "        vertical-align: top;\n",
       "    }\n",
       "\n",
       "    .dataframe thead th {\n",
       "        text-align: right;\n",
       "    }\n",
       "</style>\n",
       "<table border=\"1\" class=\"dataframe\">\n",
       "  <thead>\n",
       "    <tr style=\"text-align: right;\">\n",
       "      <th></th>\n",
       "      <th>device_type</th>\n",
       "      <th>is_ad</th>\n",
       "      <th>count</th>\n",
       "    </tr>\n",
       "  </thead>\n",
       "  <tbody>\n",
       "    <tr>\n",
       "      <th>0</th>\n",
       "      <td>IoT</td>\n",
       "      <td>False</td>\n",
       "      <td>1055</td>\n",
       "    </tr>\n",
       "    <tr>\n",
       "      <th>2</th>\n",
       "      <td>computer</td>\n",
       "      <td>False</td>\n",
       "      <td>719352</td>\n",
       "    </tr>\n",
       "    <tr>\n",
       "      <th>3</th>\n",
       "      <td>computer</td>\n",
       "      <td>True</td>\n",
       "      <td>26348</td>\n",
       "    </tr>\n",
       "    <tr>\n",
       "      <th>4</th>\n",
       "      <td>other</td>\n",
       "      <td>False</td>\n",
       "      <td>35048</td>\n",
       "    </tr>\n",
       "    <tr>\n",
       "      <th>5</th>\n",
       "      <td>other</td>\n",
       "      <td>True</td>\n",
       "      <td>1044</td>\n",
       "    </tr>\n",
       "    <tr>\n",
       "      <th>6</th>\n",
       "      <td>phone</td>\n",
       "      <td>False</td>\n",
       "      <td>301212</td>\n",
       "    </tr>\n",
       "    <tr>\n",
       "      <th>7</th>\n",
       "      <td>phone</td>\n",
       "      <td>True</td>\n",
       "      <td>87645</td>\n",
       "    </tr>\n",
       "    <tr>\n",
       "      <th>8</th>\n",
       "      <td>tablet</td>\n",
       "      <td>False</td>\n",
       "      <td>10876</td>\n",
       "    </tr>\n",
       "    <tr>\n",
       "      <th>9</th>\n",
       "      <td>tablet</td>\n",
       "      <td>True</td>\n",
       "      <td>962</td>\n",
       "    </tr>\n",
       "  </tbody>\n",
       "</table>\n",
       "</div>"
      ],
      "text/plain": [
       "  device_type  is_ad   count\n",
       "0         IoT  False    1055\n",
       "2    computer  False  719352\n",
       "3    computer   True   26348\n",
       "4       other  False   35048\n",
       "5       other   True    1044\n",
       "6       phone  False  301212\n",
       "7       phone   True   87645\n",
       "8      tablet  False   10876\n",
       "9      tablet   True     962"
      ]
     },
     "execution_count": 28,
     "metadata": {},
     "output_type": "execute_result"
    }
   ],
   "source": [
    "temp_df"
   ]
  },
  {
   "cell_type": "code",
   "execution_count": 29,
   "metadata": {},
   "outputs": [
    {
     "data": {
      "text/plain": [
       "1.3664741993926204"
      ]
     },
     "execution_count": 29,
     "metadata": {},
     "output_type": "execute_result"
    }
   ],
   "source": [
    "5242/ 383615 * 100"
   ]
  },
  {
   "cell_type": "code",
   "execution_count": 30,
   "metadata": {},
   "outputs": [],
   "source": [
    "u_protocol_names = [\"Ad\", \"not Ad\"]\n",
    "\n",
    "temp_dfs = [temp_df[temp_df.device_type == dt].copy() for dt in all_devices]"
   ]
  },
  {
   "cell_type": "code",
   "execution_count": 31,
   "metadata": {},
   "outputs": [
    {
     "data": {
      "image/png": "[encoded data removed]",
      "text/plain": [
       "<Figure size 864x576 with 1 Axes>"
      ]
     },
     "metadata": {
      "needs_background": "light"
     },
     "output_type": "display_data"
    }
   ],
   "source": [
    "import numpy as np\n",
    "import matplotlib.pyplot as plt\n",
    " \n",
    "# set width of bar\n",
    "barWidth = 0.30\n",
    " \n",
    "bars = []\n",
    "for p in u_protocol_names:\n",
    "    tl = []\n",
    "    for t in temp_dfs:\n",
    "        d = t[~t.is_ad]\n",
    "        if p == \"Ad\":\n",
    "            d = t[t.is_ad]\n",
    "        tl.append(d.iloc[0][\"count\"] if len(d) else 0)\n",
    "    bars.append(tl)\n",
    "    \n",
    "rs = [np.arange(len(bars[0]))]\n",
    "for i in range(1, len(bars)):\n",
    "    rs.append([x + barWidth for x in rs[i - 1]])\n",
    "\n",
    "# # Make the plot\n",
    "for r, bar, v in zip(rs, bars, u_protocol_names):\n",
    "    plt.bar(r, bar, width=barWidth, edgecolor='white', label=v)\n",
    "\n",
    "plt.title(\"Ad over Device Types\")\n",
    "# # Add xticks on the middle of the group bars\n",
    "plt.xlabel('time', fontweight='bold')\n",
    "plt.ylabel('count', fontweight='bold')\n",
    "plt.xticks([r + barWidth for r in range(len(bars[1]))], all_devices)\n",
    " \n",
    "# # Create legend & Show graphic\n",
    "plt.legend()\n",
    "plt.show()\n"
   ]
  },
  {
   "cell_type": "code",
   "execution_count": null,
   "metadata": {},
   "outputs": [],
   "source": []
  },
  {
   "cell_type": "code",
   "execution_count": null,
   "metadata": {},
   "outputs": [],
   "source": []
  },
  {
   "cell_type": "code",
   "execution_count": 34,
   "metadata": {},
   "outputs": [],
   "source": [
    "def is_idle(t):\n",
    "    if t.hour in [3, 4, 5, 6, 12]: # We could not log the idle and active times :( night and lunch break\n",
    "        return True\n",
    "    return False\n",
    "\n",
    "all_df[\"is_idle\"] = all_df.date_locale.apply(is_idle)"
   ]
  },
  {
   "cell_type": "markdown",
   "metadata": {},
   "source": [
    "### Idle"
   ]
  },
  {
   "cell_type": "code",
   "execution_count": 35,
   "metadata": {},
   "outputs": [],
   "source": [
    "temp_df = all_df.groupby([\"is_idle\", \"is_ad\"])[\"id\"].count().to_frame()\n",
    "temp_df.columns = [\"count\"]\n",
    "temp_df = temp_df.reset_index()\n",
    "\n",
    "temp_df = temp_df[temp_df[\"count\"] > 250]\n",
    "# temp_df[\"count\"] = temp_df[\"count\"].apply(np.log1p)"
   ]
  },
  {
   "cell_type": "code",
   "execution_count": 36,
   "metadata": {},
   "outputs": [],
   "source": [
    "u_protocol_names = [\"Ad\", \"not Ad\"]\n",
    "\n",
    "temp_df_day = temp_df[~temp_df.is_idle].copy()\n",
    "temp_df_night = temp_df[temp_df.is_idle].copy()"
   ]
  },
  {
   "cell_type": "code",
   "execution_count": 37,
   "metadata": {},
   "outputs": [
    {
     "data": {
      "text/html": [
       "<div>\n",
       "<style scoped>\n",
       "    .dataframe tbody tr th:only-of-type {\n",
       "        vertical-align: middle;\n",
       "    }\n",
       "\n",
       "    .dataframe tbody tr th {\n",
       "        vertical-align: top;\n",
       "    }\n",
       "\n",
       "    .dataframe thead th {\n",
       "        text-align: right;\n",
       "    }\n",
       "</style>\n",
       "<table border=\"1\" class=\"dataframe\">\n",
       "  <thead>\n",
       "    <tr style=\"text-align: right;\">\n",
       "      <th></th>\n",
       "      <th>is_idle</th>\n",
       "      <th>is_ad</th>\n",
       "      <th>count</th>\n",
       "    </tr>\n",
       "  </thead>\n",
       "  <tbody>\n",
       "    <tr>\n",
       "      <th>0</th>\n",
       "      <td>False</td>\n",
       "      <td>False</td>\n",
       "      <td>938118</td>\n",
       "    </tr>\n",
       "    <tr>\n",
       "      <th>1</th>\n",
       "      <td>False</td>\n",
       "      <td>True</td>\n",
       "      <td>98170</td>\n",
       "    </tr>\n",
       "    <tr>\n",
       "      <th>2</th>\n",
       "      <td>True</td>\n",
       "      <td>False</td>\n",
       "      <td>129425</td>\n",
       "    </tr>\n",
       "    <tr>\n",
       "      <th>3</th>\n",
       "      <td>True</td>\n",
       "      <td>True</td>\n",
       "      <td>17880</td>\n",
       "    </tr>\n",
       "  </tbody>\n",
       "</table>\n",
       "</div>"
      ],
      "text/plain": [
       "   is_idle  is_ad   count\n",
       "0    False  False  938118\n",
       "1    False   True   98170\n",
       "2     True  False  129425\n",
       "3     True   True   17880"
      ]
     },
     "execution_count": 37,
     "metadata": {},
     "output_type": "execute_result"
    }
   ],
   "source": [
    "temp_df"
   ]
  },
  {
   "cell_type": "code",
   "execution_count": 42,
   "metadata": {},
   "outputs": [
    {
     "data": {
      "image/png": "[encoded data removed]",
      "text/plain": [
       "<Figure size 864x576 with 1 Axes>"
      ]
     },
     "metadata": {
      "needs_background": "light"
     },
     "output_type": "display_data"
    }
   ],
   "source": [
    "import numpy as np\n",
    "import matplotlib.pyplot as plt\n",
    " \n",
    "# set width of bar\n",
    "barWidth = 0.30\n",
    " \n",
    "bars = []\n",
    "for p in u_protocol_names:\n",
    "    if p == \"Ad\":\n",
    "        d = temp_df_day[temp_df_day.is_ad]\n",
    "        n = temp_df_night[temp_df_night.is_ad]\n",
    "    else:\n",
    "        d = temp_df_day[~temp_df_day.is_ad]\n",
    "        n = temp_df_night[~temp_df_night.is_ad]\n",
    "    bars.append([\n",
    "        d.iloc[0][\"count\"] if len(d) else 0,\n",
    "        n.iloc[0][\"count\"] if len(n) else 0\n",
    "    ])\n",
    "    \n",
    "rs = [np.arange(len(bars[0]))]\n",
    "for i in range(1, len(bars)):\n",
    "    rs.append([x + barWidth for x in rs[i - 1]])\n",
    "\n",
    "# # Make the plot\n",
    "for r, bar, v in zip(rs, bars, u_protocol_names):\n",
    "    plt.bar(r, bar, width=barWidth, edgecolor='white', label=v)\n",
    "\n",
    "plt.title(\"Ad over Active/Idle\")\n",
    "# # Add xticks on the middle of the group bars\n",
    "plt.xlabel('time', fontweight='bold')\n",
    "plt.ylabel('count', fontweight='bold')\n",
    "plt.xticks([r + barWidth for r in range(len(bars[1]))], [\"Active\", \"Idle\"])\n",
    " \n",
    "# # Create legend & Show graphic\n",
    "plt.legend()\n",
    "plt.show()\n"
   ]
  },
  {
   "cell_type": "code",
   "execution_count": null,
   "metadata": {},
   "outputs": [],
   "source": []
  }
 ],
 "metadata": {
  "kernelspec": {
   "display_name": "CMB Env",
   "language": "python",
   "name": "cmb-enb"
  },
  "language_info": {
   "codemirror_mode": {
    "name": "ipython",
    "version": 3
   },
   "file_extension": ".py",
   "mimetype": "text/x-python",
   "name": "python",
   "nbconvert_exporter": "python",
   "pygments_lexer": "ipython3",
   "version": "3.6.12"
  }
 },
 "nbformat": 4,
 "nbformat_minor": 4
}
