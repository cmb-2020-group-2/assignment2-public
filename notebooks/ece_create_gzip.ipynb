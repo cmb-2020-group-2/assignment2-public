{
 "cells": [
  {
   "cell_type": "code",
   "execution_count": 1,
   "metadata": {},
   "outputs": [],
   "source": [
    "import os\n",
    "\n",
    "import numpy as np\n",
    "import pandas as pd\n",
    "import matplotlib.pyplot as plt\n",
    "\n",
    "from tqdm import tqdm\n",
    "from glob import glob\n",
    "from nfstream import NFStreamer\n",
    "\n",
    "%matplotlib inline\n",
    "\n",
    "plt.rcParams.update({\n",
    "    'font.size': 16,\n",
    "    'figure.figsize': [12, 8]\n",
    "})"
   ]
  },
  {
   "cell_type": "code",
   "execution_count": 2,
   "metadata": {},
   "outputs": [],
   "source": [
    "root_dir = \"/Volumes/Berke Esmer/pcaps_ece\""
   ]
  },
  {
   "cell_type": "code",
   "execution_count": 3,
   "metadata": {},
   "outputs": [
    {
     "name": "stderr",
     "output_type": "stream",
     "text": [
      " 97%|█████████▋| 58/60 [26:27<00:15,  7.70s/it] "
     ]
    },
    {
     "name": "stdout",
     "output_type": "stream",
     "text": [
      "None type for /Volumes/Berke Esmer/pcaps_ece/ece___29_01_2021___09_04.pcap\n"
     ]
    },
    {
     "name": "stderr",
     "output_type": "stream",
     "text": [
      "100%|██████████| 60/60 [27:58<00:00, 27.97s/it]\n"
     ]
    }
   ],
   "source": [
    "files = glob(os.path.join(root_dir, \"*.pcap\"))\n",
    "\n",
    "all_dfs = []\n",
    "for pcap_path in tqdm(files, total=len(files)):\n",
    "\n",
    "    streamer_awesome = NFStreamer(source=pcap_path)\n",
    "    df = streamer_awesome.to_pandas(columns_to_anonymize=[])\n",
    "    if df is None:\n",
    "        print(f\"None type for {pcap_path}\")\n",
    "        continue\n",
    "        \n",
    "#     df = df[[\"bidirectional_first_seen_ms\"]]\n",
    "    df[\"15mins_bins\"] = df.bidirectional_first_seen_ms.apply(lambda x: x//900000)\n",
    "    \n",
    "    all_dfs.append(df)\n",
    "    \n",
    "all_dfs = pd.concat(all_dfs)\n",
    "all_dfs[\"15mins_bins\"] = all_dfs[\"15mins_bins\"] - all_dfs[\"15mins_bins\"].min()"
   ]
  },
  {
   "cell_type": "code",
   "execution_count": 4,
   "metadata": {},
   "outputs": [],
   "source": [
    "all_dfs[\"whoami\"] = \"ece\"\n",
    "all_dfs.to_csv(\"../data/ece_all_data.csv.gz\", compression=\"gzip\", index=0)"
   ]
  },
  {
   "cell_type": "code",
   "execution_count": null,
   "metadata": {},
   "outputs": [],
   "source": []
  }
 ],
 "metadata": {
  "kernelspec": {
   "display_name": "Python 3",
   "language": "python",
   "name": "python3"
  },
  "language_info": {
   "codemirror_mode": {
    "name": "ipython",
    "version": 3
   },
   "file_extension": ".py",
   "mimetype": "text/x-python",
   "name": "python",
   "nbconvert_exporter": "python",
   "pygments_lexer": "ipython3",
   "version": "3.7.6"
  }
 },
 "nbformat": 4,
 "nbformat_minor": 4
}
