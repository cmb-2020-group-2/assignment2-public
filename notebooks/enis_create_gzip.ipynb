{
 "cells": [
  {
   "cell_type": "code",
   "execution_count": null,
   "metadata": {},
   "outputs": [],
   "source": [
    "import os\n",
    "\n",
    "import numpy as np\n",
    "import pandas as pd\n",
    "import matplotlib.pyplot as plt\n",
    "\n",
    "from tqdm import tqdm\n",
    "from glob import glob\n",
    "from nfstream import NFStreamer\n",
    "\n",
    "%matplotlib inline\n",
    "\n",
    "plt.rcParams.update({\n",
    "    'font.size': 16,\n",
    "    'figure.figsize': [12, 8]\n",
    "})"
   ]
  },
  {
   "cell_type": "code",
   "execution_count": 2,
   "metadata": {},
   "outputs": [],
   "source": [
    "root_dir = \"/hdd1/enis/cmb/assignment2/pcaps\""
   ]
  },
  {
   "cell_type": "code",
   "execution_count": 3,
   "metadata": {},
   "outputs": [
    {
     "name": "stderr",
     "output_type": "stream",
     "text": [
      "  3%|▎         | 1/31 [00:00<00:06,  4.52it/s]"
     ]
    },
    {
     "name": "stdout",
     "output_type": "stream",
     "text": [
      "None type for /hdd1/enis/cmb/assignment2/pcaps/enis___07_01_2021___12_08.pcap\n"
     ]
    },
    {
     "name": "stderr",
     "output_type": "stream",
     "text": [
      "100%|██████████| 31/31 [14:19<00:00, 27.72s/it]\n"
     ]
    }
   ],
   "source": [
    "files = glob(os.path.join(root_dir, \"*.pcap\"))\n",
    "\n",
    "all_dfs = []\n",
    "for pcap_path in tqdm(files, total=len(files)):\n",
    "\n",
    "    streamer_awesome = NFStreamer(source=pcap_path)\n",
    "    df = streamer_awesome.to_pandas(columns_to_anonymize=[])\n",
    "    if df is None:\n",
    "        print(f\"None type for {pcap_path}\")\n",
    "        continue\n",
    "        \n",
    "#     df = df[[\"bidirectional_first_seen_ms\"]]\n",
    "    df[\"15mins_bins\"] = df.bidirectional_first_seen_ms.apply(lambda x: x//900000)\n",
    "    \n",
    "    all_dfs.append(df)\n",
    "    \n",
    "all_dfs = pd.concat(all_dfs)\n",
    "all_dfs[\"15mins_bins\"] = all_dfs[\"15mins_bins\"] - all_dfs[\"15mins_bins\"].min()"
   ]
  },
  {
   "cell_type": "code",
   "execution_count": 5,
   "metadata": {},
   "outputs": [],
   "source": [
    "all_dfs[\"whoami\"] = \"enis\"\n",
    "all_dfs.to_csv(\"../data/enis_all_data.csv.gz\", compression=\"gzip\", index=0)"
   ]
  }
 ],
 "metadata": {
  "kernelspec": {
   "display_name": "CMB Env",
   "language": "python",
   "name": "cmb-enb"
  },
  "language_info": {
   "codemirror_mode": {
    "name": "ipython",
    "version": 3
   },
   "file_extension": ".py",
   "mimetype": "text/x-python",
   "name": "python",
   "nbconvert_exporter": "python",
   "pygments_lexer": "ipython3",
   "version": "3.6.12"
  }
 },
 "nbformat": 4,
 "nbformat_minor": 4
}
